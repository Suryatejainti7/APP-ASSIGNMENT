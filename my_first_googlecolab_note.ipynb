{
  "nbformat": 4,
  "nbformat_minor": 0,
  "metadata": {
    "colab": {
      "name": "my_first_googlecolab_note.ipynb",
      "provenance": [],
      "collapsed_sections": [],
      "toc_visible": true,
      "include_colab_link": true
    },
    "kernelspec": {
      "display_name": "Python 3",
      "name": "python3"
    }
  },
  "cells": [
    {
      "cell_type": "markdown",
      "metadata": {
        "id": "view-in-github",
        "colab_type": "text"
      },
      "source": [
        "<a href=\"https://colab.research.google.com/github/Suryatejainti7/basic-ML/blob/main/my_first_googlecolab_note.ipynb\" target=\"_parent\"><img src=\"https://colab.research.google.com/assets/colab-badge.svg\" alt=\"Open In Colab\"/></a>"
      ]
    },
    {
      "cell_type": "markdown",
      "metadata": {
        "id": "ZgmtyvFS0EGl"
      },
      "source": [
        "##                                          **ASSIGNMENT** "
      ]
    },
    {
      "cell_type": "markdown",
      "metadata": {
        "id": "5vuzVFjP0kLE"
      },
      "source": [
        "# basic python programs"
      ]
    },
    {
      "cell_type": "markdown",
      "metadata": {
        "id": "G0ksL_dK0h0n"
      },
      "source": [
        "1.python program to find max of 3 numbers(integers).\n",
        "\n",
        "\n",
        "SOURCE CODE\n",
        "\n",
        "Consider 3 variables called a,b and c which will be assigned to input values "
      ]
    },
    {
      "cell_type": "code",
      "metadata": {
        "id": "7x8EAB3A2MeC"
      },
      "source": [
        "a = int(input(\"enter a\"))\n",
        "b = int(input(\"enter b\"))\n",
        "c = int(input(\"enter c\"))\n",
        "if (a>=b) and (a>=c):\n",
        "    print(\"a is max\")\n",
        "elif (b>=c):\n",
        "    print(\"b is max\")\n",
        "else:\n",
        "    print(\"c is max\")\n",
        "\n",
        "\n"
      ],
      "execution_count": null,
      "outputs": []
    },
    {
      "cell_type": "markdown",
      "metadata": {
        "id": "AfvONXH36Bw3"
      },
      "source": [
        "2.python program to find area of triangle,using three sides of triangle.\n",
        "\n",
        "SOURCE CODE:"
      ]
    },
    {
      "cell_type": "markdown",
      "metadata": {
        "id": "sqbDHS7T7BIA"
      },
      "source": [
        "Consider three sides of triangle with magnitude d,e,f"
      ]
    },
    {
      "cell_type": "code",
      "metadata": {
        "id": "H21_-bji7c_4"
      },
      "source": [
        "d = int(input(\"enter first side\"))\n",
        "e = int(input(\"enter second side\"))\n",
        "f = int(input(\"enter third side\"))\n",
        "\n",
        "# calculate semi-perimeter\n",
        "s = (a + b + c) / 2\n",
        "\n",
        "# caluculate area\n",
        "area = (s*(s-a)*(s-b)*(s-c)) ** 0.5\n",
        "print('The area of the triangle is %0.2f' %area)"
      ],
      "execution_count": null,
      "outputs": []
    },
    {
      "cell_type": "markdown",
      "metadata": {
        "id": "-laotqGF-FxW"
      },
      "source": [
        "3.python program to swap two numbers.\n",
        "\n",
        "SOURCE CODE:"
      ]
    },
    {
      "cell_type": "markdown",
      "metadata": {
        "id": "oPOmLR_i-ma8"
      },
      "source": [
        "consider two variables as x,y"
      ]
    },
    {
      "cell_type": "code",
      "metadata": {
        "id": "E6JRMWiT-s04",
        "colab": {
          "base_uri": "https://localhost:8080/"
        },
        "outputId": "9aa1caad-8e02-4877-bd2e-5675af05f145"
      },
      "source": [
        "x = int(input(\"enter a number\"))\n",
        "y = int(input(\"enter another number\"))\n",
        "\n",
        "# To take inputs from the user\n",
        "#x = input('Enter value of x: ')\n",
        "#y = input('Enter value of y: ')\n",
        "\n",
        "# create a temporary variable and swap the values\n",
        "temp = x\n",
        "x = y\n",
        "y = temp\n",
        "\n",
        "print('The value of x after swapping: {}'.format(x))\n",
        "print('The value of y after swapping: {}'.format(y))\n"
      ],
      "execution_count": null,
      "outputs": [
        {
          "output_type": "stream",
          "text": [
            "enter a number3\n",
            "enter another number7\n",
            "The value of x after swapping: 7\n",
            "The value of y after swapping: 3\n"
          ],
          "name": "stdout"
        }
      ]
    }
  ]
}